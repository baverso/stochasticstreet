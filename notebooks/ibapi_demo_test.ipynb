{
 "cells": [
  {
   "cell_type": "code",
   "execution_count": 1,
   "id": "1661367f-3bda-47db-9cc6-8328717ade87",
   "metadata": {},
   "outputs": [],
   "source": [
    "import datetime\n",
    "import pytz\n",
    "import pandas as pd\n",
    "import numpy as np"
   ]
  },
  {
   "cell_type": "code",
   "execution_count": 2,
   "id": "ade00d84-dd6d-4099-b2a1-414018bcf776",
   "metadata": {},
   "outputs": [],
   "source": [
    "from ibapi.client import EClient\n",
    "from ibapi.wrapper import EWrapper\n",
    "from ibapi.contract import Contract\n",
    "from ibapi import wrapper\n",
    "from ibapi.common import *  # Includes many shared datatypes\n",
    "from ibapi.ticktype import *  # For tick data\n",
    "from ibapi.contract import Contract\n",
    "from ibapi.contract import ContractDetails"
   ]
  },
  {
   "cell_type": "code",
   "execution_count": 3,
   "id": "18959314-557a-4fcd-af3d-0dfbd098db18",
   "metadata": {},
   "outputs": [],
   "source": [
    "import logging\n",
    "import json"
   ]
  },
  {
   "cell_type": "code",
   "execution_count": 4,
   "id": "2817cbf4-aadb-46e7-9b21-be08f1e64d34",
   "metadata": {},
   "outputs": [],
   "source": [
    "# Custom JSON formatter for logs\n",
    "class JsonFormatter(logging.Formatter):\n",
    "    def format(self, record):\n",
    "        # Initialize log record with timestamp and level first\n",
    "        log_record = {\n",
    "            \"timestamp\": self.formatTime(record, self.datefmt),\n",
    "            \"level\": record.levelname\n",
    "        }\n",
    "\n",
    "        # If the message is a dictionary, merge it into the log record\n",
    "        if isinstance(record.msg, dict):\n",
    "            log_record.update(record.msg)\n",
    "        else:\n",
    "            # Fallback for non-dictionary messages\n",
    "            log_record[\"message\"] = record.getMessage()\n",
    "\n",
    "        # Return the JSON-formatted string with indentation\n",
    "        return json.dumps(log_record, indent=2)\n",
    "\n",
    "# Configure the logger\n",
    "# log_file_path = '/Volumes/LaCie_d2_Professional_Media/ibapi_callbacks/callbacks.log'\n",
    "log_file_path = '/Users/meow/trading-platform/callbacks.log' #local\n",
    "\n",
    "file_handler = logging.FileHandler(log_file_path)\n",
    "file_handler.setLevel(logging.INFO)\n",
    "file_handler.setFormatter(JsonFormatter())\n",
    "\n",
    "logger = logging.getLogger(\"JsonLogger\")\n",
    "logger.setLevel(logging.INFO)\n",
    "\n",
    "# Ensure no duplicate handlers\n",
    "if not logger.hasHandlers():\n",
    "    logger.addHandler(file_handler)\n",
    "\n",
    "# Example usage for your application logs\n",
    "trade_app_logger = logging.getLogger('TradeApp')\n",
    "\n",
    "# Ensure TradeApp logger uses the same handlers\n",
    "trade_app_logger.setLevel(logging.INFO)\n",
    "trade_app_logger.addHandler(file_handler)\n",
    "\n",
    "# Example log\n",
    "trade_app_logger.info(\"IBAPI log initialized.\")"
   ]
  },
  {
   "cell_type": "markdown",
   "id": "e8856ef6-eb11-4d2d-8c5d-d463ee6b6654",
   "metadata": {},
   "source": [
    "### Create callback functions here to handle responses from API"
   ]
  },
  {
   "cell_type": "code",
   "execution_count": 42,
   "id": "c20cf7a5-60ec-431e-9d9b-f48f6d551b3c",
   "metadata": {},
   "outputs": [],
   "source": [
    "class TradeApp(EWrapper, EClient):\n",
    "    def __init__(self, json_indent=2):\n",
    "        EWrapper.__init__(self)\n",
    "        EClient.__init__(self, self)\n",
    "        self.json_indent = json_indent  # Control JSON indentation\n",
    "        self.reqId_to_symbol = {}  # Map reqId to symbols for easier tracking\n",
    "\n",
    "    \n",
    "    def accountSummary(self, reqId: int, account: str, tag: str, value: str, currency: str):\n",
    "        print(f\"Account Summary Update - Request ID: {reqId}, Account: {account}, Tag: {tag}, Value: {value}, Currency: {currency}\")\n",
    "\n",
    "    def accountSummaryEnd(self, reqId: int):\n",
    "        print(f\"Account Summary End - Request ID: {reqId}\")\n",
    "\n",
    "    def contractDetails(self, reqId: int, contractDetails: ContractDetails):\n",
    "        print(f\"Contract Details for Request ID {reqId}:\")\n",
    "        print(f\"Symbol: {contractDetails.contract.symbol}\")\n",
    "        print(f\"Exchange: {contractDetails.contract.exchange}\")\n",
    "        print(f\"Currency: {contractDetails.contract.currency}\")\n",
    "        print(f\"Last Trade Date: {contractDetails.contract.lastTradeDateOrContractMonth}\")\n",
    "        print(f\"Multiplier: {contractDetails.contract.multiplier}\")\n",
    "        print(f\"Trading Hours: {contractDetails.tradingHours}\")\n",
    "        print(f\"Liquid Hours: {contractDetails.liquidHours}\")\n",
    "        print(f\"Price Magnifier: {contractDetails.priceMagnifier}\")\n",
    "\n",
    "    def contractDetailsEnd(self, reqId: int):\n",
    "        \"\"\"Called when all contract details are received.\"\"\"\n",
    "        print(f\"Contract Details End - Request ID: {reqId}\")        \n",
    "    \n",
    "    def log_and_print(self, log_msg):\n",
    "        \"\"\"Helper method to log and optionally print JSON-formatted messages.\"\"\"\n",
    "        logger.info(log_msg)\n",
    "        if PrintInLine:\n",
    "            print(json.dumps(log_msg, indent=self.json_indent))\n",
    "\n",
    "    def tickPrice(self, reqId: int, tickType: int, price: float, attrib):\n",
    "        \"\"\"Capture tick price, including margin-related fields.\"\"\"\n",
    "        if tickType == 87:  # Field ID for margin-related tick data\n",
    "            log_msg = {\n",
    "                \"type\": \"MarginData\",\n",
    "                \"details\": {\n",
    "                    \"symbol\": self.reqId_to_symbol.get(reqId, \"Unknown\"),\n",
    "                    \"margin\": price,\n",
    "                    \"tickType\": tickType\n",
    "                }\n",
    "            }\n",
    "            self.log_and_print(log_msg)\n",
    "\n",
    "    def tickSize(self, reqId: int, tickType: int, size: int):\n",
    "        \"\"\"Capture tick size if needed.\"\"\"\n",
    "        log_msg = {\n",
    "            \"type\": \"TickSize\",\n",
    "            \"details\": {\n",
    "                \"reqId\": reqId,\n",
    "                \"tickType\": tickType,\n",
    "                \"size\": size\n",
    "            }\n",
    "        }\n",
    "        self.log_and_print(log_msg)\n",
    "\n",
    "    def tickSnapshotEnd(self, reqId: int):\n",
    "        \"\"\"Triggered when snapshot data is complete.\"\"\"\n",
    "        log_msg = {\n",
    "            \"type\": \"TickSnapshotEnd\",\n",
    "            \"details\": {\"reqId\": reqId}\n",
    "        }\n",
    "        self.log_and_print(log_msg)"
   ]
  },
  {
   "cell_type": "markdown",
   "id": "850c780e-428a-4661-8d43-e48b1bdc8263",
   "metadata": {},
   "source": [
    "### Initiate thread for jupyter kernel communication to API"
   ]
  },
  {
   "cell_type": "code",
   "execution_count": 43,
   "id": "bd4507f6-c3c2-44b1-9447-7aeb3d5797cb",
   "metadata": {},
   "outputs": [
    {
     "name": "stderr",
     "output_type": "stream",
     "text": [
      "ERROR -1 2104 Market data farm connection is OK:usfarm.nj\n",
      "ERROR -1 2104 Market data farm connection is OK:usfuture\n",
      "ERROR -1 2104 Market data farm connection is OK:cashfarm\n",
      "ERROR -1 2104 Market data farm connection is OK:usfarm\n",
      "ERROR -1 2106 HMDS data farm connection is OK:ushmds\n",
      "ERROR -1 2158 Sec-def data farm connection is OK:secdefnj\n"
     ]
    },
    {
     "name": "stdout",
     "output_type": "stream",
     "text": [
      "Contract Details for Request ID 9002:\n",
      "Symbol: CL\n",
      "Exchange: NYMEX\n",
      "Currency: USD\n",
      "Last Trade Date: 20250220\n",
      "Multiplier: 1000\n",
      "Trading Hours: 20250113:1800-20250114:1700;20250114:1800-20250115:1700;20250115:1800-20250116:1700;20250116:1800-20250117:1700;20250118:CLOSED;20250119:1800-20250120:1430\n",
      "Liquid Hours: 20250114:0930-20250114:1700;20250115:0930-20250115:1700;20250116:0930-20250116:1700;20250117:0930-20250117:1700;20250118:CLOSED;20250119:1800-20250120:1430\n",
      "Price Magnifier: 1\n",
      "Contract Details End - Request ID: 9002\n"
     ]
    }
   ],
   "source": [
    "import threading #Jupyter Notebook Execution: If app.run() blocks the Jupyter kernel, you can use threading\n",
    "\n",
    "app = TradeApp()\n",
    "def run_loop():\n",
    "    app.run()\n",
    "app.connect(\"127.0.0.1\", 7496, clientId=2)\n",
    "\n",
    "# Start the API in a separate thread\n",
    "api_thread = threading.Thread(target=run_loop, daemon=True)\n",
    "api_thread.start()\n",
    "\n",
    "if PrintInLine:\n",
    "    print(\"IBAPI log initialized to this Jupyter thread.\")"
   ]
  },
  {
   "cell_type": "markdown",
   "id": "20e4b062-b1d1-4095-893e-79ec96306b66",
   "metadata": {},
   "source": [
    "# IBAPI Account Request Tags\n",
    "*Requests use the built-in API calls. Be sure to have response handling by defining callback functions in class `TradeApp`*\n",
    "\n",
    "These tags provide essential account and margin details critical for day trading and algo trading in **equities** and **futures**:\n",
    "\n",
    "## Core Account Metrics\n",
    "- **`accountType`**: Type of account (e.g., Cash, Margin).\n",
    "- **`NetLiquidation`**: Total account value (cash + positions).\n",
    "- **`TotalCashValue`**: Cash balance, including unrealized futures PnL.\n",
    "- **`SettledCash`**: Settled cash available (same as `TotalCashValue` for cash accounts).\n",
    "- **`AccruedCash`**: Net accrued interest.\n",
    "\n",
    "## Buying Power & Margin\n",
    "- **`BuyingPower`**: Maximum marginable amount for US stocks.\n",
    "- **`EquityWithLoanValue`**: Account equity inclusive of loan/margin.\n",
    "- **`RegTEquity`**: Regulation T equity requirement.\n",
    "- **`RegTMargin`**: Regulation T margin requirement.\n",
    "- **`SMA`**: Special Memorandum Account (used for calculating buying power).\n",
    "- **`InitMarginReq`**: Initial margin requirement for current positions.\n",
    "- **`MaintMarginReq`**: Maintenance margin requirement.\n",
    "\n",
    "## Risk Management\n",
    "- **`AvailableFunds`**: Funds available for trading after margin.\n",
    "- **`ExcessLiquidity`**: Cushion amount before liquidation risks.\n",
    "- **`Cushion`**: Percentage of excess liquidity to net liquidation value.\n",
    "- **`HighestSeverity`**: Severity level of nearing liquidation.\n",
    "\n",
    "## Look-Ahead Metrics\n",
    "- **`LookAheadInitMarginReq`**, **`LookAheadMaintMarginReq`**: Predicted margin requirements.\n",
    "- **`LookAheadAvailableFunds`**, **`LookAheadExcessLiquidity`**: Predicted available funds and liquidity.\n",
    "- **`LookAheadNextChange`**: Time of next look-ahead margin update.\n",
    "\n",
    "## Trading-Specific\n",
    "- **`GrossPositionValue`**: Total absolute value of all positions.\n",
    "- **`DayTradesRemaining`**: Number of allowed day trades before Pattern Day Trader (PDT) detection (`-1` means unlimited).\n",
    "- **`Leverage`**: Ratio of `GrossPositionValue` to `NetLiquidation`.\n",
    "\n",
    "## Ledger (Cash Balances)\n",
    "- **`$LEDGER`**: All cash balances in base currency.\n",
    "- **`$LEDGER:CURRENCY`**: Cash balances in a specific currency.\n",
    "- **`$LEDGER:ALL`**: Cash balances across all currencies.\n",
    "\n",
    "---\n",
    "\n",
    "## Why These Matter\n",
    "- **Risk Management**: Use `ExcessLiquidity`, `Cushion`, and `HighestSeverity` to monitor liquidation risk.\n",
    "- **Margin Awareness**: Track `BuyingPower`, `InitMarginReq`, and `MaintMarginReq` for margin-sensitive strategies.\n",
    "- **Day Trading Rules**: Monitor `DayTradesRemaining` to stay compliant with PDT rules.\n",
    "- **Capital Allocation**: Utilize `TotalCashValue` and `NetLiquidation` for proper strategy allocation.\n",
    "- **Position Scaling**: Use `Leverage` and `GrossPositionValue` for controlling portfolio size.\n",
    "\n",
    "---\n",
    "\n",
    "This information helps ensure you maintain proper account risk management and optimize your trading strategies programmatically."
   ]
  },
  {
   "cell_type": "code",
   "execution_count": 33,
   "id": "f38b1d17-c7f9-44a9-974a-63e9fe087ae5",
   "metadata": {},
   "outputs": [],
   "source": [
    "app.reqAccountSummary(9001, \"All\", 'TotalCashValue,DayTradesRemaining,BuyingPower,Cushion') # creates a subscription your account data, refreshing periodically and updating in real-time while the subscription is active.\n",
    "\n",
    "# app.cancelAccountSummary(9001) #closes out the subscription"
   ]
  },
  {
   "cell_type": "code",
   "execution_count": 17,
   "id": "99749d10-c467-4b60-ba13-145380930d3c",
   "metadata": {},
   "outputs": [],
   "source": [
    "app.reqAccountUpdates(True, \"All\")"
   ]
  },
  {
   "cell_type": "code",
   "execution_count": 13,
   "id": "93c0e349-7a94-4a1f-b913-d073529a852b",
   "metadata": {},
   "outputs": [],
   "source": [
    "app.disconnect()"
   ]
  },
  {
   "cell_type": "code",
   "execution_count": null,
   "id": "cfe43f29-ec81-4103-a2f9-8926692efa09",
   "metadata": {},
   "outputs": [],
   "source": []
  },
  {
   "cell_type": "code",
   "execution_count": 44,
   "id": "785477ec-395d-415f-8623-d852cb3a7758",
   "metadata": {},
   "outputs": [],
   "source": [
    "def create_futures_contract(symbol, expiry, exchange=\"GLOBEX\", currency=\"USD\"):\n",
    "    contract = Contract()\n",
    "    contract.symbol = symbol        # e.g., \"MES\"\n",
    "    contract.secType = \"FUT\"        # Futures\n",
    "    contract.exchange = exchange    # \"GLOBEX\"\n",
    "    contract.currency = currency    # \"USD\"\n",
    "    contract.lastTradeDateOrContractMonth = expiry  # e.g., \"202503\" for March 2025\n",
    "    return contract\n",
    "\n",
    "# Example usage\n",
    "futures_contract = create_futures_contract(\"CL\", \"202503\", \"NYMEX\")\n",
    "\n",
    "\n",
    "# Request contract details (including margins)\n",
    "app.reqContractDetails(9002, futures_contract)"
   ]
  },
  {
   "cell_type": "code",
   "execution_count": null,
   "id": "d02918a0-4eaf-4b06-ae51-ccba16360ed8",
   "metadata": {},
   "outputs": [],
   "source": [
    "app.reqContractDetails(9003,)"
   ]
  },
  {
   "cell_type": "code",
   "execution_count": 40,
   "id": "63e6b944-59bc-4b6c-9272-214112b863ce",
   "metadata": {},
   "outputs": [
    {
     "data": {
      "text/plain": [
       "4465945536: 0,MES,FUT,202503,,0,,,GLOBEX,,USD,,,False,,,,combo:"
      ]
     },
     "execution_count": 40,
     "metadata": {},
     "output_type": "execute_result"
    }
   ],
   "source": [
    "futures_contract"
   ]
  },
  {
   "cell_type": "code",
   "execution_count": null,
   "id": "ded9ecb5-61e5-4cb6-9778-af1dda79e0a0",
   "metadata": {},
   "outputs": [],
   "source": []
  },
  {
   "cell_type": "code",
   "execution_count": null,
   "id": "92cce9ee-ad2d-48e4-af7e-f814fa287211",
   "metadata": {},
   "outputs": [],
   "source": []
  },
  {
   "cell_type": "code",
   "execution_count": null,
   "id": "cbbcf19a-3011-47ac-a531-7af2ef556dc5",
   "metadata": {},
   "outputs": [],
   "source": []
  },
  {
   "cell_type": "code",
   "execution_count": 60,
   "id": "b83afbd3-dda8-4211-9fc0-e8b571c6375d",
   "metadata": {},
   "outputs": [],
   "source": [
    "app.reqPositions()"
   ]
  },
  {
   "cell_type": "markdown",
   "id": "950c8f88-16e7-4495-a9dc-823d7d8df214",
   "metadata": {},
   "source": [
    "### disconnect from server here"
   ]
  },
  {
   "cell_type": "code",
   "execution_count": 18,
   "id": "255d98ee-82b2-4998-9b74-e6bff3b68d42",
   "metadata": {},
   "outputs": [],
   "source": [
    "app.disconnect()"
   ]
  },
  {
   "cell_type": "code",
   "execution_count": 11,
   "id": "926c9e77-93db-4554-8006-9db6e94527bc",
   "metadata": {},
   "outputs": [],
   "source": []
  },
  {
   "cell_type": "code",
   "execution_count": null,
   "id": "8ace8f9d-a8c4-4dcb-8e46-8ea32c9a00cf",
   "metadata": {},
   "outputs": [],
   "source": []
  },
  {
   "cell_type": "code",
   "execution_count": 36,
   "id": "bfd2f9f7-2ab0-4ea3-9653-7ebefbbf7db3",
   "metadata": {},
   "outputs": [],
   "source": []
  },
  {
   "cell_type": "code",
   "execution_count": null,
   "id": "82130920-1dc3-4fd1-8280-bd1709e8ccba",
   "metadata": {},
   "outputs": [],
   "source": []
  },
  {
   "cell_type": "code",
   "execution_count": null,
   "id": "89de26c9-9220-4ae1-ac35-22328ed877c9",
   "metadata": {},
   "outputs": [],
   "source": []
  }
 ],
 "metadata": {
  "kernelspec": {
   "display_name": "Python 3 (ipykernel)",
   "language": "python",
   "name": "python3"
  },
  "language_info": {
   "codemirror_mode": {
    "name": "ipython",
    "version": 3
   },
   "file_extension": ".py",
   "mimetype": "text/x-python",
   "name": "python",
   "nbconvert_exporter": "python",
   "pygments_lexer": "ipython3",
   "version": "3.10.13"
  }
 },
 "nbformat": 4,
 "nbformat_minor": 5
}
