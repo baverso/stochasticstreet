{
 "cells": [
  {
   "cell_type": "code",
   "execution_count": 1,
   "id": "initial_id",
   "metadata": {},
   "outputs": [
    {
     "data": {
      "text/plain": [
       "'/Users/danieldelluomo/Desktop/algo_trading/stochasticstreet/notebooks'"
      ]
     },
     "execution_count": 1,
     "metadata": {},
     "output_type": "execute_result"
    }
   ],
   "source": [
    "pwd"
   ]
  },
  {
   "cell_type": "code",
   "execution_count": 3,
   "id": "a5ac8e70",
   "metadata": {},
   "outputs": [
    {
     "name": "stdout",
     "output_type": "stream",
     "text": [
      "* \u001b[32mmain\u001b[m\r\n",
      "  remote\u001b[m\r\n"
     ]
    }
   ],
   "source": [
    "!git branch"
   ]
  },
  {
   "cell_type": "code",
   "execution_count": 5,
   "id": "f786b17b",
   "metadata": {},
   "outputs": [
    {
     "name": "stdout",
     "output_type": "stream",
     "text": [
      "\u001b[33mcommit 35f7e8379d0da4877dc47dc633056cbde5c52c37\u001b[m\u001b[33m (\u001b[m\u001b[1;36mHEAD -> \u001b[m\u001b[1;32mmain\u001b[m\u001b[33m, \u001b[m\u001b[1;33mtag: v0.0.1-dev\u001b[m\u001b[33m, \u001b[m\u001b[1;31morigin/main\u001b[m\u001b[33m, \u001b[m\u001b[1;31morigin/HEAD\u001b[m\u001b[33m, \u001b[m\u001b[1;32mremote\u001b[m\u001b[33m)\u001b[m\r\n",
      "Merge: e51d46c c827080\r\n",
      "Author: Brett <10674467+baverso@users.noreply.github.com>\r\n",
      "Date:   Thu Jan 23 14:39:38 2025 -0500\r\n",
      "\r\n",
      "    Merge pull request #2 from baverso/brett\r\n",
      "    \r\n",
      "    readme\r\n",
      "\r\n",
      "\u001b[33mcommit c8270807cdb4dec8f4a5de09e7fcc4f052bcd660\u001b[m\u001b[33m (\u001b[m\u001b[1;31morigin/brett\u001b[m\u001b[33m)\u001b[m\r\n",
      "Author: Brett <baverso@gmail.com>\r\n",
      "Date:   Thu Jan 23 14:36:32 2025 -0500\r\n",
      "\r\n",
      "    added a main.py\r\n",
      "\r\n",
      "\u001b[33mcommit e51d46c48259f51b53ec0c0176ab94b8a5608d2d\u001b[m\r\n",
      "Merge: 044c0a2 adeaf8c\r\n",
      "Author: Brett <10674467+baverso@users.noreply.github.com>\r\n",
      "Date:   Thu Jan 23 13:39:02 2025 -0500\r\n",
      "\r\n",
      "    Merge pull request #1 from baverso/brett\r\n",
      "    \r\n",
      "    Brett\r\n",
      "\r\n",
      "\u001b[33mcommit adeaf8ce6ceb16f59ef620f437ef332275b388ce\u001b[m\r\n",
      "Author: Brett <baverso@gmail.com>\r\n",
      "Date:   Thu Jan 23 13:35:45 2025 -0500\r\n",
      "\r\n",
      "    added a main.py\r\n",
      "\r\n",
      "\u001b[33mcommit faf10395bc83a1cbfd81ac62482f5414e22d865e\u001b[m\r\n",
      "Author: Brett <baverso@gmail.com>\r\n",
      "Date:   Thu Jan 23 00:59:45 2025 -0500\r\n",
      "\r\n",
      "    added a main.py\r\n",
      "\r\n",
      "\u001b[33mcommit e4a903dcd066c43d450ae30432c50dde43768590\u001b[m\r\n",
      "Author: Brett <baverso@gmail.com>\r\n",
      "Date:   Wed Jan 22 22:26:27 2025 -0500\r\n",
      "\r\n",
      "    added a main.py\r\n",
      "\r\n",
      "\u001b[33mcommit 044c0a26d9403f63f1d99fc9a8aaa33ab97aa8a0\u001b[m\r\n",
      "Author: Brett <baverso@gmail.com>\r\n",
      "Date:   Wed Jan 22 20:30:39 2025 -0500\r\n",
      "\r\n",
      "    added a main.py\r\n",
      "\r\n",
      "\u001b[33mcommit 948e944dd27d8fcf9137daa17c317ce731571f38\u001b[m\r\n",
      "Author: Brett <baverso@gmail.com>\r\n",
      "Date:   Wed Jan 22 20:23:34 2025 -0500\r\n",
      "\r\n",
      "    added a main.py\r\n",
      "\r\n",
      "\u001b[33mcommit 84f020d02c132f3eadad28176e7b97a2457dc9f7\u001b[m\u001b[33m (\u001b[m\u001b[1;31morigin/dan\u001b[m\u001b[33m)\u001b[m\r\n",
      "Author: Daniel Dell’uomo <danieldelluomo@Daniels-MacBook-Pro.local>\r\n",
      "Date:   Tue Jan 21 23:55:08 2025 -0500\r\n",
      "\r\n",
      "    Restructure Inheritance\r\n",
      "\r\n",
      "\u001b[33mcommit 2f5a7ee3f76aa04bd98005cd6c0647507e00b86f\u001b[m\r\n",
      "Author: Daniel Dell’uomo <danieldelluomo@Daniels-MacBook-Pro.local>\r\n",
      "Date:   Tue Jan 21 23:37:12 2025 -0500\r\n",
      "\r\n",
      "    Restructure Inheritance\r\n",
      "\r\n",
      "\u001b[33mcommit 81b73e51e2cb9ebc68755a2ed958e3003624696f\u001b[m\r\n",
      "Author: Daniel Dell’uomo <danieldelluomo@Daniels-MacBook-Pro.local>\r\n",
      "Date:   Tue Jan 21 23:33:52 2025 -0500\r\n",
      "\r\n",
      "    Restructure Inheritance\r\n",
      "\r\n",
      "\u001b[33mcommit 96e085336f6f646b72aca732941bd77b0ea99e90\u001b[m\r\n",
      "Author: Brett <baverso@gmail.com>\r\n",
      "Date:   Tue Jan 21 21:31:11 2025 -0500\r\n",
      "\r\n",
      "    added a main.py\r\n",
      "\r\n",
      "\u001b[33mcommit d7c13d94c39420a2ea19a6c7a291648141d7aed4\u001b[m\r\n",
      "Author: Brett <baverso@gmail.com>\r\n",
      "Date:   Mon Jan 20 16:47:01 2025 -0500\r\n",
      "\r\n",
      "    added a main.py\r\n",
      "\r\n",
      "\u001b[33mcommit 40908dcec050be9ab04e5be10b2a3ef8e5c86406\u001b[m\r\n",
      "Author: Brett <baverso@gmail.com>\r\n",
      "Date:   Sun Jan 19 11:09:18 2025 -0500\r\n",
      "\r\n",
      "    added a main.py\r\n",
      "\r\n",
      "\u001b[33mcommit 947e19877888fed91b097972af840bdf0d23cf39\u001b[m\r\n",
      "Author: Brett <baverso@gmail.com>\r\n",
      "Date:   Sun Jan 19 11:08:13 2025 -0500\r\n",
      "\r\n",
      "    added a main.py\r\n",
      "\r\n",
      "\u001b[33mcommit 8e21a797e50045b859b3c80ddf75d42c94485c36\u001b[m\r\n",
      "Author: Brett <baverso@gmail.com>\r\n",
      "Date:   Fri Jan 17 23:07:09 2025 -0500\r\n",
      "\r\n",
      "    added a main.py\r\n",
      "\r\n",
      "\u001b[33mcommit 10218e17c8eb48f97fb1f62b3dc883eed9d24b6c\u001b[m\r\n",
      "Author: Brett <baverso@gmail.com>\r\n",
      "Date:   Fri Jan 17 15:31:50 2025 -0500\r\n",
      "\r\n",
      "    added a main.py\r\n",
      "\r\n",
      "\u001b[33mcommit 272c0a8659e0a7e6b71c915e0fdd164199fe6d3b\u001b[m\r\n",
      "Author: Brett <baverso@gmail.com>\r\n",
      "Date:   Fri Jan 17 02:20:19 2025 -0500\r\n",
      "\r\n",
      "    added a main.py\r\n",
      "\r\n",
      "\u001b[33mcommit f6d4f6fb0d02cbd7d286dc54f414f2b3cda87cd6\u001b[m\r\n",
      "Author: Brett <baverso@gmail.com>\r\n",
      "Date:   Thu Jan 16 22:03:31 2025 -0500\r\n",
      "\r\n",
      "    added a main.py\r\n",
      "\r\n",
      "\u001b[33mcommit 62f1872076a20e137a2334946c28c3d5c1f570f7\u001b[m\r\n",
      "Author: Brett Averso <meow@brett.local>\r\n",
      "Date:   Thu Jan 16 14:54:27 2025 -0500\r\n",
      "\r\n",
      "    first commit\r\n",
      "\r\n",
      "\u001b[33mcommit d872ab3248e4d18099437e19b4ae5f2ac49b3145\u001b[m\r\n",
      "Author: Brett Averso <10674467+baverso@users.noreply.github.com>\r\n",
      "Date:   Thu Jan 16 14:44:53 2025 -0500\r\n",
      "\r\n",
      "    Initial commit\r\n"
     ]
    }
   ],
   "source": [
    "!git log"
   ]
  },
  {
   "cell_type": "code",
   "execution_count": null,
   "id": "78a2f933",
   "metadata": {},
   "outputs": [],
   "source": []
  }
 ],
 "metadata": {
  "kernelspec": {
   "display_name": "Python 3 (ipykernel)",
   "language": "python",
   "name": "python3"
  },
  "language_info": {
   "codemirror_mode": {
    "name": "ipython",
    "version": 3
   },
   "file_extension": ".py",
   "mimetype": "text/x-python",
   "name": "python",
   "nbconvert_exporter": "python",
   "pygments_lexer": "ipython3",
   "version": "3.9.13"
  }
 },
 "nbformat": 4,
 "nbformat_minor": 5
}
